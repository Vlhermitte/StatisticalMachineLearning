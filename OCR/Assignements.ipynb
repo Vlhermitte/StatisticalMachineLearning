{
 "cells": [
  {
   "cell_type": "markdown",
   "source": [
    "# Valentin Lhermitte"
   ],
   "metadata": {
    "collapsed": false
   },
   "id": "6d2eec827a9844c9"
  },
  {
   "cell_type": "code",
   "execution_count": 1,
   "id": "initial_id",
   "metadata": {
    "collapsed": true,
    "ExecuteTime": {
     "end_time": "2023-12-05T14:52:14.019413Z",
     "start_time": "2023-12-05T14:52:13.747969Z"
    }
   },
   "outputs": [],
   "source": [
    "import numpy as np\n",
    "import scipy.io as sio"
   ]
  },
  {
   "cell_type": "code",
   "execution_count": 2,
   "outputs": [],
   "source": [
    "def load_data():\n",
    "    mat = sio.loadmat('ocr_names.mat')\n",
    "    trn_data = mat.get('TrnData')\n",
    "    tst_data = mat.get('TstData')\n",
    "\n",
    "    trn_size = trn_data.shape[1]\n",
    "    trn_x = list()\n",
    "    trn_y = list()\n",
    "    for i in range(trn_size):\n",
    "        trn_x.append(trn_data[0, i][1])\n",
    "        trn_y.append(trn_data[0, i][2][0])\n",
    "\n",
    "    tst_size = tst_data.shape[1]\n",
    "    tst_x = list()\n",
    "    tst_y = list()\n",
    "    for i in range(tst_size):\n",
    "        tst_x.append(tst_data[0, i][1])\n",
    "        tst_y.append(tst_data[0, i][2][0])\n",
    "\n",
    "    return trn_x, trn_y, tst_x, tst_y"
   ],
   "metadata": {
    "collapsed": false,
    "ExecuteTime": {
     "end_time": "2023-12-05T14:52:14.176610Z",
     "start_time": "2023-12-05T14:52:14.164796Z"
    }
   },
   "id": "eeb256b0e107e66b"
  },
  {
   "cell_type": "code",
   "execution_count": 3,
   "outputs": [],
   "source": [
    "trn_X, trn_Y, tst_X, tst_Y = load_data()"
   ],
   "metadata": {
    "collapsed": false,
    "ExecuteTime": {
     "end_time": "2023-12-05T14:52:15.621593Z",
     "start_time": "2023-12-05T14:52:14.715445Z"
    }
   },
   "id": "4b4dc45ce86da902"
  },
  {
   "cell_type": "code",
   "execution_count": 4,
   "outputs": [],
   "source": [
    "labels = ['a', 'b', 'c', 'd', 'e', 'f', 'g', 'h', 'i', 'j',\n",
    "          'k', 'l', 'm', 'n', 'o', 'p', 'q', 'r', 's', 't',\n",
    "          'u', 'v', 'w', 'x', 'y', 'z']"
   ],
   "metadata": {
    "collapsed": false,
    "ExecuteTime": {
     "end_time": "2023-12-05T14:52:15.622676Z",
     "start_time": "2023-12-05T14:52:15.620744Z"
    }
   },
   "id": "57adb2b419297b9e"
  },
  {
   "cell_type": "markdown",
   "source": [
    "# 1. Assigment 1 : Independent linear multi-class classifier"
   ],
   "metadata": {
    "collapsed": false
   },
   "id": "7fb3278f1f60f48a"
  },
  {
   "cell_type": "code",
   "execution_count": 5,
   "outputs": [],
   "source": [
    "class MultiClassPerceptron:\n",
    "    def __init__(self, n_letters=26, n_features=8256):\n",
    "        self.n_letters = n_letters\n",
    "        self.n_features = n_features\n",
    "        self.W = np.zeros(shape=(self.n_letters, self.n_features))\n",
    "        self.b = np.ones(shape=(self.n_letters, 1))\n",
    "        self.loss_sequence = 0\n",
    "        self.loss_char = 0\n",
    "\n",
    "    def forward(self, x):\n",
    "        scores = np.dot(self.W, x) + self.b\n",
    "        return np.argmax(scores, axis=0)\n",
    "\n",
    "    def backward(self, x, y_corr, y_predicted):\n",
    "        if not np.array_equal(y_corr, y_predicted):\n",
    "            self.loss_sequence += 1\n",
    "        for i in range(len(y_predicted)):\n",
    "            if y_predicted[i] != y_corr[i]:\n",
    "                self.loss_char += 1\n",
    "                self.W[y_corr[i]] += x[:, i]\n",
    "                self.b[y_corr[i]] += 1\n",
    "                self.W[y_predicted[i]] -= x[:, i]\n",
    "                self.b[y_predicted[i]] -= 1\n",
    "\n",
    "    def train(self, X, Y, n_epochs=100):\n",
    "        for epoch in range(n_epochs):\n",
    "            print('Epoch: ', epoch)\n",
    "            self.loss_char = 0\n",
    "            self.loss_sequence = 0\n",
    "            for i in range(len(X)):\n",
    "                y_predicted = self.forward(X[i])\n",
    "                y_corr = list(map(lambda c: labels.index(c), Y[i]))\n",
    "                self.backward(X[i], y_corr, y_predicted)\n",
    "\n",
    "            print('Loss char: ', self.loss_char / len(X))\n",
    "            print('Loss sequence: ', self.loss_sequence / len(X))\n",
    "            if self.loss_sequence == 0:\n",
    "                break\n",
    "\n",
    "    def predict(self, X):\n",
    "        # Predict the label of image X\n",
    "        return [self.forward(x) for x in X]\n",
    "\n",
    "    def evaluate(self, X, Y):\n",
    "        n_seq_errors = 0\n",
    "        n_char_errors = 0\n",
    "        n_letters = 0\n",
    "        for i in range(len(X)):\n",
    "            y_predicted = self.forward(X[i])\n",
    "            y_corr = list(map(lambda c: labels.index(c), Y[i]))\n",
    "            if not np.array_equal(y_corr, y_predicted):\n",
    "                n_seq_errors += 1\n",
    "                for j in range(len(y_predicted)):\n",
    "                    if y_predicted[j] != y_corr[j]:\n",
    "                        n_char_errors += 1\n",
    "            n_letters += len(Y[i])\n",
    "        R_char = n_char_errors / n_letters\n",
    "        R_seq = n_seq_errors / len(X)\n",
    "        return R_char, R_seq"
   ],
   "metadata": {
    "collapsed": false,
    "ExecuteTime": {
     "end_time": "2023-12-05T14:52:16.574998Z",
     "start_time": "2023-12-05T14:52:16.568762Z"
    }
   },
   "id": "13668764938f8c9"
  },
  {
   "cell_type": "code",
   "execution_count": 6,
   "outputs": [
    {
     "name": "stdout",
     "output_type": "stream",
     "text": [
      "Epoch:  0\n",
      "Loss char:  2.568\n",
      "Loss sequence:  0.925\n",
      "Epoch:  1\n",
      "Loss char:  1.541\n",
      "Loss sequence:  0.79\n",
      "Epoch:  2\n",
      "Loss char:  1.194\n",
      "Loss sequence:  0.691\n",
      "Epoch:  3\n",
      "Loss char:  0.982\n",
      "Loss sequence:  0.633\n",
      "Epoch:  4\n",
      "Loss char:  0.747\n",
      "Loss sequence:  0.537\n",
      "Epoch:  5\n",
      "Loss char:  0.63\n",
      "Loss sequence:  0.454\n",
      "Epoch:  6\n",
      "Loss char:  0.533\n",
      "Loss sequence:  0.396\n",
      "Epoch:  7\n",
      "Loss char:  0.459\n",
      "Loss sequence:  0.365\n",
      "Epoch:  8\n",
      "Loss char:  0.364\n",
      "Loss sequence:  0.294\n",
      "Epoch:  9\n",
      "Loss char:  0.294\n",
      "Loss sequence:  0.26\n",
      "Epoch:  10\n",
      "Loss char:  0.31\n",
      "Loss sequence:  0.261\n",
      "Epoch:  11\n",
      "Loss char:  0.295\n",
      "Loss sequence:  0.254\n",
      "Epoch:  12\n",
      "Loss char:  0.224\n",
      "Loss sequence:  0.202\n",
      "Epoch:  13\n",
      "Loss char:  0.217\n",
      "Loss sequence:  0.194\n",
      "Epoch:  14\n",
      "Loss char:  0.21\n",
      "Loss sequence:  0.188\n",
      "Epoch:  15\n",
      "Loss char:  0.188\n",
      "Loss sequence:  0.166\n",
      "Epoch:  16\n",
      "Loss char:  0.154\n",
      "Loss sequence:  0.14\n",
      "Epoch:  17\n",
      "Loss char:  0.148\n",
      "Loss sequence:  0.138\n",
      "Epoch:  18\n",
      "Loss char:  0.137\n",
      "Loss sequence:  0.126\n",
      "Epoch:  19\n",
      "Loss char:  0.118\n",
      "Loss sequence:  0.109\n",
      "Epoch:  20\n",
      "Loss char:  0.119\n",
      "Loss sequence:  0.108\n",
      "Epoch:  21\n",
      "Loss char:  0.113\n",
      "Loss sequence:  0.105\n",
      "Epoch:  22\n",
      "Loss char:  0.115\n",
      "Loss sequence:  0.11\n",
      "Epoch:  23\n",
      "Loss char:  0.111\n",
      "Loss sequence:  0.101\n",
      "Epoch:  24\n",
      "Loss char:  0.099\n",
      "Loss sequence:  0.092\n",
      "Epoch:  25\n",
      "Loss char:  0.083\n",
      "Loss sequence:  0.078\n",
      "Epoch:  26\n",
      "Loss char:  0.094\n",
      "Loss sequence:  0.089\n",
      "Epoch:  27\n",
      "Loss char:  0.061\n",
      "Loss sequence:  0.055\n",
      "Epoch:  28\n",
      "Loss char:  0.068\n",
      "Loss sequence:  0.065\n",
      "Epoch:  29\n",
      "Loss char:  0.053\n",
      "Loss sequence:  0.051\n",
      "Epoch:  30\n",
      "Loss char:  0.053\n",
      "Loss sequence:  0.052\n",
      "Epoch:  31\n",
      "Loss char:  0.054\n",
      "Loss sequence:  0.051\n",
      "Epoch:  32\n",
      "Loss char:  0.056\n",
      "Loss sequence:  0.056\n",
      "Epoch:  33\n",
      "Loss char:  0.056\n",
      "Loss sequence:  0.053\n",
      "Epoch:  34\n",
      "Loss char:  0.06\n",
      "Loss sequence:  0.058\n",
      "Epoch:  35\n",
      "Loss char:  0.057\n",
      "Loss sequence:  0.055\n",
      "Epoch:  36\n",
      "Loss char:  0.052\n",
      "Loss sequence:  0.05\n",
      "Epoch:  37\n",
      "Loss char:  0.044\n",
      "Loss sequence:  0.041\n",
      "Epoch:  38\n",
      "Loss char:  0.032\n",
      "Loss sequence:  0.03\n",
      "Epoch:  39\n",
      "Loss char:  0.044\n",
      "Loss sequence:  0.043\n",
      "Epoch:  40\n",
      "Loss char:  0.037\n",
      "Loss sequence:  0.036\n",
      "Epoch:  41\n",
      "Loss char:  0.019\n",
      "Loss sequence:  0.019\n",
      "Epoch:  42\n",
      "Loss char:  0.026\n",
      "Loss sequence:  0.026\n",
      "Epoch:  43\n",
      "Loss char:  0.024\n",
      "Loss sequence:  0.024\n",
      "Epoch:  44\n",
      "Loss char:  0.029\n",
      "Loss sequence:  0.029\n",
      "Epoch:  45\n",
      "Loss char:  0.022\n",
      "Loss sequence:  0.022\n",
      "Epoch:  46\n",
      "Loss char:  0.013\n",
      "Loss sequence:  0.013\n",
      "Epoch:  47\n",
      "Loss char:  0.016\n",
      "Loss sequence:  0.016\n",
      "Epoch:  48\n",
      "Loss char:  0.02\n",
      "Loss sequence:  0.02\n",
      "Epoch:  49\n",
      "Loss char:  0.026\n",
      "Loss sequence:  0.026\n",
      "Epoch:  50\n",
      "Loss char:  0.019\n",
      "Loss sequence:  0.019\n",
      "Epoch:  51\n",
      "Loss char:  0.047\n",
      "Loss sequence:  0.044\n",
      "Epoch:  52\n",
      "Loss char:  0.025\n",
      "Loss sequence:  0.024\n",
      "Epoch:  53\n",
      "Loss char:  0.017\n",
      "Loss sequence:  0.017\n",
      "Epoch:  54\n",
      "Loss char:  0.024\n",
      "Loss sequence:  0.023\n",
      "Epoch:  55\n",
      "Loss char:  0.03\n",
      "Loss sequence:  0.03\n",
      "Epoch:  56\n",
      "Loss char:  0.01\n",
      "Loss sequence:  0.01\n",
      "Epoch:  57\n",
      "Loss char:  0.018\n",
      "Loss sequence:  0.018\n",
      "Epoch:  58\n",
      "Loss char:  0.034\n",
      "Loss sequence:  0.033\n",
      "Epoch:  59\n",
      "Loss char:  0.048\n",
      "Loss sequence:  0.047\n",
      "Epoch:  60\n",
      "Loss char:  0.025\n",
      "Loss sequence:  0.025\n",
      "Epoch:  61\n",
      "Loss char:  0.027\n",
      "Loss sequence:  0.027\n",
      "Epoch:  62\n",
      "Loss char:  0.028\n",
      "Loss sequence:  0.028\n",
      "Epoch:  63\n",
      "Loss char:  0.034\n",
      "Loss sequence:  0.034\n",
      "Epoch:  64\n",
      "Loss char:  0.031\n",
      "Loss sequence:  0.029\n",
      "Epoch:  65\n",
      "Loss char:  0.016\n",
      "Loss sequence:  0.016\n",
      "Epoch:  66\n",
      "Loss char:  0.035\n",
      "Loss sequence:  0.034\n",
      "Epoch:  67\n",
      "Loss char:  0.027\n",
      "Loss sequence:  0.027\n",
      "Epoch:  68\n",
      "Loss char:  0.015\n",
      "Loss sequence:  0.015\n",
      "Epoch:  69\n",
      "Loss char:  0.008\n",
      "Loss sequence:  0.008\n",
      "Epoch:  70\n",
      "Loss char:  0.006\n",
      "Loss sequence:  0.006\n",
      "Epoch:  71\n",
      "Loss char:  0.002\n",
      "Loss sequence:  0.002\n",
      "Epoch:  72\n",
      "Loss char:  0.0\n",
      "Loss sequence:  0.0\n"
     ]
    }
   ],
   "source": [
    "# Train the model\n",
    "model1 = MultiClassPerceptron(n_letters=26, n_features=8256)\n",
    "model1.train(trn_X, trn_Y, n_epochs=100)"
   ],
   "metadata": {
    "collapsed": false,
    "ExecuteTime": {
     "end_time": "2023-12-05T14:52:51.414246Z",
     "start_time": "2023-12-05T14:52:17.889397Z"
    }
   },
   "id": "a2df725b283f0556"
  },
  {
   "cell_type": "code",
   "execution_count": 9,
   "outputs": [
    {
     "name": "stdout",
     "output_type": "stream",
     "text": [
      "R_char:  0.2502360717658168\n",
      "R_seq:  0.694\n"
     ]
    }
   ],
   "source": [
    "# Evaluate the model\n",
    "R_char_model1, R_seq_model1 = model1.evaluate(tst_X, tst_Y)\n",
    "print('R_char: ', R_char_model1)\n",
    "print('R_seq: ', R_seq_model1)"
   ],
   "metadata": {
    "collapsed": false,
    "ExecuteTime": {
     "end_time": "2023-12-05T14:55:18.379430Z",
     "start_time": "2023-12-05T14:55:18.174247Z"
    }
   },
   "id": "864d8267e7742f8"
  },
  {
   "cell_type": "markdown",
   "source": [
    "# 2. Assigment 2 :  Linear structured classifier modeling pair-wise dependency"
   ],
   "metadata": {
    "collapsed": false
   },
   "id": "d088becb06278e6c"
  },
  {
   "cell_type": "code",
   "execution_count": 10,
   "outputs": [],
   "source": [
    "class LinearStructuredClassifierPairwise:\n",
    "    def __init__(self, n_labels=26, n_features=8256):\n",
    "        self.n_labels = n_labels\n",
    "        self.n_features = n_features\n",
    "        self.W = np.zeros(shape=(self.n_labels, self.n_features))\n",
    "        self.b = np.ones(shape=(self.n_labels, 1))\n",
    "        self.g = np.zeros(shape=(self.n_labels, self.n_labels))\n",
    "        self.loss_sequence = 0\n",
    "        self.loss_char = 0\n",
    "\n",
    "    def find_next_y(self, Q, F_list, y_pred, index):\n",
    "        # Function using dynamic programming to find the best sequence of labels\n",
    "        q_list = Q[:, index]\n",
    "        next_F_list = np.zeros(self.n_labels)\n",
    "        for i in range(self.n_labels):\n",
    "            next_F_list[i] = q_list[i] + max(F_list + self.g[:, i])\n",
    "\n",
    "        if index == len(y_pred) - 1:\n",
    "            y_pred[index] = np.argmax(next_F_list)\n",
    "        else:\n",
    "            y_pred = self.find_next_y(Q, next_F_list, y_pred, index + 1)\n",
    "\n",
    "        y_pred[index - 1] = np.argmax(F_list + self.g[:, y_pred[index]])\n",
    "        return y_pred\n",
    "    \n",
    "    def forward(self, x):\n",
    "        Q = np.dot(self.W, x) + self.b\n",
    "        q_1 = Q[:, 0]\n",
    "\n",
    "        y_pred = np.zeros(x.shape[1]).astype(np.int64)\n",
    "        y_pred = self.find_next_y(Q, q_1, y_pred, 1)\n",
    "        return y_pred\n",
    "    \n",
    "\n",
    "    def backward(self, x, y_corr, y_predicted):\n",
    "        if not np.array_equal(y_corr, y_predicted):\n",
    "            self.loss_sequence += 1\n",
    "        for i in range(len(y_predicted)):\n",
    "            if y_predicted[i] != y_corr[i]:\n",
    "                self.loss_char += 1\n",
    "                self.W[y_corr[i]] += x[:, i]\n",
    "                self.b[y_corr[i]] += 1\n",
    "                self.W[y_predicted[i]] -= x[:, i]\n",
    "                self.b[y_predicted[i]] -= 1\n",
    "            if i > 0:\n",
    "                if y_predicted[i] != y_corr[i] and y_predicted[i - 1] == y_corr[i - 1]:\n",
    "                    self.g[y_corr[i - 1], y_predicted[i]] -= 1\n",
    "                    self.g[y_corr[i - 1], y_corr[i]] += 1\n",
    "                elif y_predicted[i] == y_corr[i] and y_predicted[i - 1] != y_corr[i - 1]:\n",
    "                    self.g[y_predicted[i - 1], y_corr[i]] -= 1\n",
    "                    self.g[y_corr[i - 1], y_corr[i]] += 1\n",
    "                elif y_predicted[i] != y_corr[i] and y_predicted[i - 1] != y_corr[i - 1]:\n",
    "                    self.g[y_predicted[i - 1], y_predicted[i]] -= 1\n",
    "                    self.g[y_corr[i - 1], y_corr[i]] += 1\n",
    "\n",
    "    def train(self, X, Y, n_epochs=100):\n",
    "        for epoch in range(n_epochs):\n",
    "            print('Epoch: ', epoch)\n",
    "            self.loss_char = 0\n",
    "            self.loss_sequence = 0\n",
    "            for i in range(len(X)):\n",
    "                y_predicted = self.forward(X[i])\n",
    "                y_corr = np.array(list(map(lambda c: labels.index(c), Y[i])))\n",
    "                self.backward(X[i], y_corr, y_predicted)\n",
    "\n",
    "            print('Loss char: ', self.loss_char / len(X))\n",
    "            print('Loss sequence: ', self.loss_sequence / len(X))\n",
    "            if self.loss_sequence == 0:\n",
    "                break\n",
    "\n",
    "    def predict(self, X):\n",
    "        # Predict the label of image X\n",
    "        return [self.forward(x) for x in X]\n",
    "\n",
    "    def evaluate(self, X, Y):\n",
    "        n_seq_errors = 0\n",
    "        n_char_errors = 0\n",
    "        n_letters = 0\n",
    "        for i in range(len(X)):\n",
    "            y_predicted = self.forward(X[i])\n",
    "            y_corr = list(map(lambda c: labels.index(c), Y[i]))\n",
    "            if not np.array_equal(y_corr, y_predicted):\n",
    "                n_seq_errors += 1\n",
    "                for j in range(len(y_predicted)):\n",
    "                    if y_predicted[j] != y_corr[j]:\n",
    "                        n_char_errors += 1\n",
    "            n_letters += len(Y[i])\n",
    "        R_char = n_char_errors / n_letters\n",
    "        R_seq = n_seq_errors / len(X)\n",
    "        return R_char, R_seq"
   ],
   "metadata": {
    "collapsed": false,
    "ExecuteTime": {
     "end_time": "2023-12-05T14:55:19.635765Z",
     "start_time": "2023-12-05T14:55:19.632623Z"
    }
   },
   "id": "1c6f20c6f23967c3"
  },
  {
   "cell_type": "code",
   "execution_count": 11,
   "outputs": [
    {
     "name": "stdout",
     "output_type": "stream",
     "text": [
      "Epoch:  0\n",
      "Loss char:  1.934\n",
      "Loss sequence:  0.616\n",
      "Epoch:  1\n",
      "Loss char:  0.66\n",
      "Loss sequence:  0.279\n",
      "Epoch:  2\n",
      "Loss char:  0.447\n",
      "Loss sequence:  0.211\n",
      "Epoch:  3\n",
      "Loss char:  0.333\n",
      "Loss sequence:  0.162\n",
      "Epoch:  4\n",
      "Loss char:  0.249\n",
      "Loss sequence:  0.132\n",
      "Epoch:  5\n",
      "Loss char:  0.178\n",
      "Loss sequence:  0.092\n",
      "Epoch:  6\n",
      "Loss char:  0.108\n",
      "Loss sequence:  0.063\n",
      "Epoch:  7\n",
      "Loss char:  0.119\n",
      "Loss sequence:  0.062\n",
      "Epoch:  8\n",
      "Loss char:  0.122\n",
      "Loss sequence:  0.068\n",
      "Epoch:  9\n",
      "Loss char:  0.079\n",
      "Loss sequence:  0.046\n",
      "Epoch:  10\n",
      "Loss char:  0.081\n",
      "Loss sequence:  0.049\n",
      "Epoch:  11\n",
      "Loss char:  0.03\n",
      "Loss sequence:  0.022\n",
      "Epoch:  12\n",
      "Loss char:  0.065\n",
      "Loss sequence:  0.038\n",
      "Epoch:  13\n",
      "Loss char:  0.097\n",
      "Loss sequence:  0.05\n",
      "Epoch:  14\n",
      "Loss char:  0.043\n",
      "Loss sequence:  0.024\n",
      "Epoch:  15\n",
      "Loss char:  0.029\n",
      "Loss sequence:  0.015\n",
      "Epoch:  16\n",
      "Loss char:  0.01\n",
      "Loss sequence:  0.008\n",
      "Epoch:  17\n",
      "Loss char:  0.02\n",
      "Loss sequence:  0.012\n",
      "Epoch:  18\n",
      "Loss char:  0.002\n",
      "Loss sequence:  0.002\n",
      "Epoch:  19\n",
      "Loss char:  0.002\n",
      "Loss sequence:  0.002\n",
      "Epoch:  20\n",
      "Loss char:  0.001\n",
      "Loss sequence:  0.001\n",
      "Epoch:  21\n",
      "Loss char:  0.003\n",
      "Loss sequence:  0.003\n",
      "Epoch:  22\n",
      "Loss char:  0.0\n",
      "Loss sequence:  0.0\n"
     ]
    }
   ],
   "source": [
    "model2 = LinearStructuredClassifierPairwise(n_labels=26, n_features=8256)\n",
    "model2.train(trn_X, trn_Y)"
   ],
   "metadata": {
    "collapsed": false,
    "ExecuteTime": {
     "end_time": "2023-12-05T14:55:40.090222Z",
     "start_time": "2023-12-05T14:55:20.567989Z"
    }
   },
   "id": "5ae94e503aa0b43d"
  },
  {
   "cell_type": "code",
   "execution_count": 12,
   "outputs": [
    {
     "name": "stdout",
     "output_type": "stream",
     "text": [
      "R_char:  0.061378659112370164\n",
      "R_seq:  0.142\n"
     ]
    }
   ],
   "source": [
    "# Evaluate the model\n",
    "R_char_model2, R_seq_model2 = model2.evaluate(tst_X, tst_Y)\n",
    "print('R_char: ', R_char_model2)\n",
    "print('R_seq: ', R_seq_model2)"
   ],
   "metadata": {
    "collapsed": false,
    "ExecuteTime": {
     "end_time": "2023-12-05T08:42:52.610594Z",
     "start_time": "2023-12-05T08:42:51.807858Z"
    }
   },
   "id": "c0a909e3db8a58c0"
  },
  {
   "cell_type": "markdown",
   "source": [
    "# 3. Assignment 3 : Linear structured classifier for fixed number of sequences"
   ],
   "metadata": {
    "collapsed": false
   },
   "id": "b0978b75ca6faca5"
  },
  {
   "cell_type": "code",
   "execution_count": 13,
   "outputs": [],
   "source": [
    "class SequenceLinearClassifier:\n",
    "    def __init__(self, n_labels, n_features, sequences):\n",
    "        self.n_classes = n_labels\n",
    "        self.n_features = n_features\n",
    "        self.W = np.zeros(shape=(n_labels, n_features))\n",
    "        self.b = np.ones(shape=(n_labels, 1))\n",
    "        self.sequences = sequences\n",
    "        self.loss_sequence = 0\n",
    "        self.loss_char = 0\n",
    "\n",
    "    def forward(self, x):\n",
    "        Q = np.dot(self.W, x) + self.b\n",
    "        y_pred = np.zeros(x.shape[1])\n",
    "\n",
    "        max_seq_score = float('-inf')\n",
    "        max_seq_idx = 0\n",
    "        sequences_l = self.sequences[x.shape[1]]\n",
    "        for i in range(len(sequences_l)):\n",
    "            sequence = sequences_l[i]\n",
    "            letters = np.array([ord(letter) - 97 for letter in sequence])\n",
    "            score = np.sum(Q[letters, range(len(sequence))])\n",
    "            if score > max_seq_score:\n",
    "                max_seq_score = score\n",
    "                max_seq_idx = i\n",
    "            y_pred = sequences_l[max_seq_idx]\n",
    "        return y_pred\n",
    "\n",
    "    def backward(self, x, y_corr, y_predicted):\n",
    "        if not np.array_equal(y_corr, y_predicted):\n",
    "            self.loss_sequence += 1\n",
    "        for i in range(len(y_predicted)):\n",
    "            if y_predicted[i] != y_corr[i]:\n",
    "                self.loss_char += 1\n",
    "                self.W[y_corr[i]] += x[:, i]\n",
    "                self.b[y_corr[i]] += 1\n",
    "                self.W[y_predicted[i]] -= x[:, i]\n",
    "                self.b[y_predicted[i]] -= 1\n",
    "\n",
    "    def train(self, x, y, epochs=100):\n",
    "        for i in range(epochs):\n",
    "            print('Epoch: ', i)\n",
    "            self.loss_char = 0\n",
    "            self.loss_sequence = 0\n",
    "            for j in range(len(x)):\n",
    "                y_corr = y[j]\n",
    "                y_predicted = self.forward(x[j])\n",
    "                # map letters to numbers\n",
    "                y_corr = list(map(lambda c: ord(c) - 97, y_corr))\n",
    "                y_predicted = list(map(lambda c: ord(c) - 97, y_predicted))\n",
    "                self.backward(x[j], y_corr, y_predicted)\n",
    "\n",
    "            print('Loss char: ', self.loss_char / len(x))\n",
    "            print('Loss sequence: ', self.loss_sequence / len(x))\n",
    "            if self.loss_sequence == 0:\n",
    "                break\n",
    "\n",
    "    def predict(self, x):\n",
    "        return self.forward(x)\n",
    "\n",
    "    def evaluate(self, X, Y):\n",
    "        n_seq_errors = 0\n",
    "        n_char_errors = 0\n",
    "        n_letters = 0\n",
    "        for i in range(len(X)):\n",
    "            y_predicted = self.forward(X[i])\n",
    "            y_corr = Y[i]\n",
    "            if not np.array_equal(y_corr, y_predicted):\n",
    "                n_seq_errors += 1\n",
    "                for j in range(len(y_predicted)):\n",
    "                    if y_predicted[j] != y_corr[j]:\n",
    "                        n_char_errors += 1\n",
    "            n_letters += len(Y[i])\n",
    "        R_char = n_char_errors / n_letters\n",
    "        R_seq = n_seq_errors / len(X)\n",
    "        return R_char, R_seq"
   ],
   "metadata": {
    "collapsed": false,
    "ExecuteTime": {
     "end_time": "2023-12-05T08:42:58.059562Z",
     "start_time": "2023-12-05T08:42:58.058091Z"
    }
   },
   "id": "15c791a8c5cc4817"
  },
  {
   "cell_type": "code",
   "execution_count": 14,
   "outputs": [],
   "source": [
    "sequences = [[],\n",
    "             [],\n",
    "             [\"bo\", \"ty\"],\n",
    "             [\"max\"],\n",
    "             [\"cruz\", \"drew\", \"greg\", \"hugh\", \"jack\"],\n",
    "             [\"brock\", \"devyn\", \"elvis\", \"floyd\", \"quinn\", \"ralph\", \"steve\", \"tariq\"],\n",
    "             [\"dwight\", \"joseph\", \"philip\"],\n",
    "             [],\n",
    "             [\"clifford\"]]"
   ],
   "metadata": {
    "collapsed": false,
    "ExecuteTime": {
     "end_time": "2023-12-05T08:42:58.717601Z",
     "start_time": "2023-12-05T08:42:58.712752Z"
    }
   },
   "id": "1fc3f25c8ec0c1e1"
  },
  {
   "cell_type": "code",
   "execution_count": 15,
   "outputs": [
    {
     "name": "stdout",
     "output_type": "stream",
     "text": [
      "Epoch:  0\n",
      "Loss char:  0.752\n",
      "Loss sequence:  0.182\n",
      "Epoch:  1\n",
      "Loss char:  0.139\n",
      "Loss sequence:  0.033\n",
      "Epoch:  2\n",
      "Loss char:  0.011\n",
      "Loss sequence:  0.003\n",
      "Epoch:  3\n",
      "Loss char:  0.0\n",
      "Loss sequence:  0.0\n"
     ]
    }
   ],
   "source": [
    "model3 = SequenceLinearClassifier(n_labels=26, n_features=8256, sequences=sequences)\n",
    "model3.train(trn_X, trn_Y)"
   ],
   "metadata": {
    "collapsed": false,
    "ExecuteTime": {
     "end_time": "2023-12-05T08:43:01.313797Z",
     "start_time": "2023-12-05T08:42:59.195422Z"
    }
   },
   "id": "5e3e0cee4b71e7f1"
  },
  {
   "cell_type": "code",
   "execution_count": 16,
   "outputs": [
    {
     "name": "stdout",
     "output_type": "stream",
     "text": [
      "R_char:  0.010387157695939566\n",
      "R_seq:  0.014\n"
     ]
    }
   ],
   "source": [
    "R_char_model3, R_seq_model3 = model3.evaluate(tst_X, tst_Y)\n",
    "print('R_char: ', R_char_model3)\n",
    "print('R_seq: ', R_seq_model3)"
   ],
   "metadata": {
    "collapsed": false,
    "ExecuteTime": {
     "end_time": "2023-12-05T08:43:02.378915Z",
     "start_time": "2023-12-05T08:43:02.100103Z"
    }
   },
   "id": "b22816eafac159e4"
  },
  {
   "cell_type": "code",
   "execution_count": null,
   "outputs": [],
   "source": [],
   "metadata": {
    "collapsed": false,
    "ExecuteTime": {
     "end_time": "2023-12-01T17:30:13.729668Z",
     "start_time": "2023-12-01T17:30:13.727851Z"
    }
   },
   "id": "73b63cbe69eed564"
  }
 ],
 "metadata": {
  "kernelspec": {
   "display_name": "Python 3",
   "language": "python",
   "name": "python3"
  },
  "language_info": {
   "codemirror_mode": {
    "name": "ipython",
    "version": 2
   },
   "file_extension": ".py",
   "mimetype": "text/x-python",
   "name": "python",
   "nbconvert_exporter": "python",
   "pygments_lexer": "ipython2",
   "version": "2.7.6"
  }
 },
 "nbformat": 4,
 "nbformat_minor": 5
}
